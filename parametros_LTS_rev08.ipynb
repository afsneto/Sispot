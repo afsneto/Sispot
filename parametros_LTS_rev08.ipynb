{
 "cells": [
  {
   "cell_type": "code",
   "execution_count": 1,
   "metadata": {},
   "outputs": [
    {
     "data": {
      "text/plain": [
       "'\\nPrograma para cálculo de parâmetros de LT subterrânea\\nrev 00 - Recebe parâmetros conforme entrada de dados no ATP\\nrev 01 - Torna entrada de parâmetros interativa\\nrev 02 - Possibilida escolha de modos de cálculo de alguns parâmetros\\nrev 03 - Considerações sobre camadas semicondutoras da isolação e blindagem composta por fios\\nrev 04 - Permite a correção da indutância devido ai efeito solenóide das blindagens\\nrev 05 - Correção da resistividade do núcleo: Estima diâmetro de modo a deixar a resistência AC o mais próximo\\n         possível do cálculo da norma 602871-1-1\\nrev 07 - Insere possibilidade de cálculo de cabo isolado a óleo\\nrev 08 - Possibilita duas formas para o cálculo dos parâmetros da blindagem:\\n        a) Mantém resistividade e altera raio (paper GUstavsen)\\n        b) Altera resistividade e mantém espessura da blindagem\\nReferências:\\nWedepohl - Transient Analysis of underground power-transmission systems: System-model and wave-propagation characteristics\\nAmetani - A General Formulation of Impedance and Admittance of Cables\\nGustavsen - Panel Session on Data for Modeling System Transients Insulated Cables\\nCigré TB 531\\nSaad - A Closed-Form Approximation for Ground Return Impedance of Underground Cables\\n'"
      ]
     },
     "execution_count": 1,
     "metadata": {},
     "output_type": "execute_result"
    }
   ],
   "source": [
    "\"\"\"\n",
    "Programa para cálculo de parâmetros de LT subterrânea\n",
    "rev 00 - Recebe parâmetros conforme entrada de dados no ATP\n",
    "rev 01 - Torna entrada de parâmetros interativa\n",
    "rev 02 - Possibilida escolha de modos de cálculo de alguns parâmetros\n",
    "rev 03 - Considerações sobre camadas semicondutoras da isolação e blindagem composta por fios\n",
    "rev 04 - Permite a correção da indutância devido ai efeito solenóide das blindagens\n",
    "rev 05 - Correção da resistividade do núcleo: Estima diâmetro de modo a deixar a resistência AC o mais próximo\n",
    "         possível do cálculo da norma 602871-1-1\n",
    "rev 07 - Insere possibilidade de cálculo de cabo isolado a óleo\n",
    "rev 08 - Possibilita duas formas para o cálculo dos parâmetros da blindagem:\n",
    "        a) Mantém resistividade e altera raio (paper GUstavsen)\n",
    "        b) Altera resistividade e mantém espessura da blindagem\n",
    "Referências:\n",
    "Wedepohl - Transient Analysis of underground power-transmission systems: System-model and wave-propagation characteristics\n",
    "Ametani - A General Formulation of Impedance and Admittance of Cables\n",
    "Gustavsen - Panel Session on Data for Modeling System Transients Insulated Cables\n",
    "Cigré TB 531\n",
    "Saad - A Closed-Form Approximation for Ground Return Impedance of Underground Cables\n",
    "\"\"\""
   ]
  },
  {
   "cell_type": "code",
   "execution_count": 36,
   "metadata": {},
   "outputs": [],
   "source": [
    "import math\n",
    "import cmath\n",
    "import numpy as np\n",
    "from scipy import special\n",
    "import pandas as pd\n",
    "import random"
   ]
  },
  {
   "cell_type": "code",
   "execution_count": 37,
   "metadata": {},
   "outputs": [
    {
     "name": "stdout",
     "output_type": "stream",
     "text": [
      "Entre com o diâmetro interno do núcleo em [cm]. Lembrando que este parâmetro só é diferente de zero caso o condutor seja tubular: \n",
      "0\n"
     ]
    }
   ],
   "source": [
    "# Calcula parametros de sequencia de LTs isoladas\n",
    "\n",
    "# Entrada de dados\n",
    "\n",
    "r_0 = 1 / 2 * (10 ** -2) * float(input('Entre com o diâmetro interno do núcleo em [cm]. Lembrando que este parâmetro '\n",
    "                                       'só é diferente de zero caso o condutor seja tubular: \\n'))\n"
   ]
  },
  {
   "cell_type": "code",
   "execution_count": 38,
   "metadata": {},
   "outputs": [
    {
     "name": "stdout",
     "output_type": "stream",
     "text": [
      "Entre com o diâmetro externo (nominal) do núcleo em [cm]: \n",
      "4.59\n"
     ]
    }
   ],
   "source": [
    "r_1 = 1 / 2 * (10 ** -2) * float(input('Entre com o diâmetro externo (nominal) do núcleo em [cm]: \\n'))"
   ]
  },
  {
   "cell_type": "code",
   "execution_count": 39,
   "metadata": {},
   "outputs": [
    {
     "name": "stdout",
     "output_type": "stream",
     "text": [
      "\n",
      "Entre com a resistividade elétrica do material do núcleo em 20 graus Celsius: \n",
      "Referência TB 531: \n",
      "Cobre - 1.7241E-8 ohm.m \n",
      "Alumínio - 2.8264E-8 ohm.m \n",
      "2.8264e-8\n"
     ]
    }
   ],
   "source": [
    "p_c = float(input('\\nEntre com a resistividade elétrica do material do núcleo em 20 graus Celsius: \\n'\n",
    "                  'Referência TB 531: \\n'\n",
    "                  'Cobre - 1.7241E-8 ohm.m \\n'\n",
    "                  'Alumínio - 2.8264E-8 ohm.m \\n'))"
   ]
  },
  {
   "cell_type": "code",
   "execution_count": 40,
   "metadata": {},
   "outputs": [
    {
     "name": "stdout",
     "output_type": "stream",
     "text": [
      "\n",
      "Temperatura a ser considerada no núcleo em graus Celsius: 90\n"
     ]
    }
   ],
   "source": [
    "graus_c = float(input('\\nTemperatura a ser considerada no núcleo em graus Celsius: '))"
   ]
  },
  {
   "cell_type": "code",
   "execution_count": 41,
   "metadata": {},
   "outputs": [
    {
     "name": "stdout",
     "output_type": "stream",
     "text": [
      "\n",
      "Resistência DC no núcleo em [ohm/km] em 20 graus Celsius: \n",
      "Valores máximos conforme IEC 60228 para condutores do tipo encordoados ou Milliken: \n",
      "Bitola [mm2]  Material  R_dc [ohm/km] \n",
      "800             Cobre         0.0224 \n",
      "1000            Cobre         0.0177 \n",
      "1200            Cobre         0.0151 \n",
      "1400            Cobre         0.0129 \n",
      "1600            Cobre         0.0113 \n",
      "1800            Cobre         0.0101 \n",
      "2000            Cobre         0.0090 \n",
      "2500            Cobre         0.0072 \n",
      "800          Alumínio         0.0367 \n",
      "1000         Alumínio         0.0291 \n",
      "1200         Alumínio         0.0247 \n",
      "1400         Alumínio         0.0212 \n",
      "1600         Alumínio         0.0186 \n",
      "1800         Alumínio         0.0165 \n",
      "2000         Alumínio         0.0149 \n",
      "2500         Alumínio         0.0127 \n",
      "0.0212\n"
     ]
    }
   ],
   "source": [
    "r_dc = (10 ** -3) * float(input('\\nResistência DC no núcleo em [ohm/km] em 20 graus Celsius: \\n'\n",
    "                   'Valores máximos conforme IEC 60228 para condutores do tipo encordoados ou Milliken: \\n'\n",
    "                   'Bitola [mm2]  Material  R_dc [ohm/km] \\n'\n",
    "                   '800             Cobre         0.0224 \\n'\n",
    "                   '1000            Cobre         0.0177 \\n'\n",
    "                   '1200            Cobre         0.0151 \\n'\n",
    "                   '1400            Cobre         0.0129 \\n'\n",
    "                   '1600            Cobre         0.0113 \\n'\n",
    "                   '1800            Cobre         0.0101 \\n'\n",
    "                   '2000            Cobre         0.0090 \\n'\n",
    "                   '2500            Cobre         0.0072 \\n'\n",
    "                   '800          Alumínio         0.0367 \\n'\n",
    "                   '1000         Alumínio         0.0291 \\n'\n",
    "                   '1200         Alumínio         0.0247 \\n'\n",
    "                   '1400         Alumínio         0.0212 \\n'\n",
    "                   '1600         Alumínio         0.0186 \\n'\n",
    "                   '1800         Alumínio         0.0165 \\n'\n",
    "                   '2000         Alumínio         0.0149 \\n'\n",
    "                   '2500         Alumínio         0.0127 \\n'))"
   ]
  },
  {
   "cell_type": "code",
   "execution_count": 42,
   "metadata": {},
   "outputs": [
    {
     "name": "stdout",
     "output_type": "stream",
     "text": [
      "\n",
      "Material do núcleo: \n",
      "1 - Alumínio (Default) \n",
      "2 - Cobre. \n",
      "1\n"
     ]
    }
   ],
   "source": [
    "material_c = input('\\nMaterial do núcleo: \\n'\n",
    "                   '1 - Alumínio (Default) \\n'\n",
    "                   '2 - Cobre. \\n')\n",
    "\n",
    "if material_c == '2':\n",
    "    r_dc_0 = r_dc * (1 + 0.00393 * (graus_c - 20))\n",
    "\n",
    "else:\n",
    "    r_dc_0 = r_dc * (1 + 0.00403 * (graus_c - 20))"
   ]
  },
  {
   "cell_type": "code",
   "execution_count": 43,
   "metadata": {},
   "outputs": [
    {
     "name": "stdout",
     "output_type": "stream",
     "text": [
      "Digite o valor do fator ks para consideração acerca do efeito pelicular. \n",
      "Valores de referência da norma IEC 60287-1-1:2006 para cabos de alumínio: \n",
      "Tipo do condutor      ks      kp \n",
      "  Sólido              1       1  \n",
      "  Encordoado          1      0.8 \n",
      "  Milliken            0.25    0.15 \n",
      "0.25\n",
      "Digite o valor do fator kp para consideração acerca do efeito de proximidade \n",
      "Ver Tabela anterior \n",
      "0.15\n"
     ]
    }
   ],
   "source": [
    "# Efeito Pelicular\n",
    "\n",
    "if material_c == \"1\":\n",
    "    if r_0 != 0:\n",
    "        ks = ((r_1 - r_0) / (r_1 + r_0)) * ((r_1 + 2 * r_0) / (r_1 + r_0)) ** 2\n",
    "    else:\n",
    "        ks = float(input('Digite o valor do fator ks para consideração acerca do efeito pelicular. \\n'\n",
    "                         'Valores de referência da norma IEC 60287-1-1:2006 para cabos de alumínio: \\n'\n",
    "                         'Tipo do condutor      ks      kp \\n'\n",
    "                         '  Sólido              1       1  \\n'\n",
    "                         '  Encordoado          1      0.8 \\n'\n",
    "                        '  Milliken            0.25    0.15 \\n'))\n",
    "\n",
    "else:\n",
    "    if r_0 != 0:\n",
    "        ks = ((r_1 - r_0) / (r_1 + r_0)) * ((r_1 + 2 * r_0) / (r_1 + r_0)) ** 2\n",
    "    else:\n",
    "        ks = float(input('Digite o valor do fator ks para consideração acerca do efeito pelicular. \\n'\n",
    "                         'Valores de referência da norma IEC 60287-1-1:2006 para cabos de cobre: \\n'\n",
    "                         'Tipo do condutor   Isolação  ks      kp \\n'\n",
    "                         '  Sólido             Todas    1      1 \\n'\n",
    "                         ' Encordoado        Extrudada  1      1 \\n'\n",
    "                         ' Milliken          Extrudada  0.35  0.20 \\n'))\n",
    "\n",
    "# Efeito de proximidade\n",
    "\n",
    "if r_0 != 0:\n",
    "    kp = 0.8\n",
    "\n",
    "else:\n",
    "    kp = float(input('Digite o valor do fator kp para consideração acerca do efeito de proximidade \\n'\n",
    "                     'Ver Tabela anterior \\n'))"
   ]
  },
  {
   "cell_type": "code",
   "execution_count": 44,
   "metadata": {},
   "outputs": [
    {
     "name": "stdout",
     "output_type": "stream",
     "text": [
      "Digite a frequência de cálculo de regime em [Hz]: 60\n"
     ]
    }
   ],
   "source": [
    "f_rps = float(input('Digite a frequência de cálculo de regime em [Hz]: '))\n",
    "\n",
    "xs = math.sqrt(8 * math.pi * f_rps / r_dc_0 * 10 ** -7 * ks)\n",
    "\n",
    "if xs > 0 and xs <= 2.8:\n",
    "    ys = xs ** 4 / (192 + 0.8 * xs ** 4)\n",
    "\n",
    "elif xs > 2.8 and xs <= 3.8:\n",
    "    ys = -0.136 - 0.0177 * xs + 0.0563 * xs ** 2\n",
    "\n",
    "else:\n",
    "    ys = 0.354 * xs - 0.733\n",
    "\n",
    "xp = math.sqrt(8 * math.pi * f_rps / r_dc_0 * 10 ** -7 * kp)"
   ]
  },
  {
   "cell_type": "code",
   "execution_count": 45,
   "metadata": {},
   "outputs": [
    {
     "name": "stdout",
     "output_type": "stream",
     "text": [
      "\n",
      "Entre com o número de cabos da instalação: 6\n",
      "\n",
      "Digite a posição no eixo x do cabo 1 em metros: -1\n",
      "Digite a profundidade do cabo 1 em metros (valor positivo): 1.5\n",
      "\n",
      "Digite a posição no eixo x do cabo 2 em metros: -0.6\n",
      "Digite a profundidade do cabo 2 em metros (valor positivo): 1.5\n",
      "\n",
      "Digite a posição no eixo x do cabo 3 em metros: -0.2\n",
      "Digite a profundidade do cabo 3 em metros (valor positivo): 1.5\n",
      "\n",
      "Digite a posição no eixo x do cabo 4 em metros: 0.2\n",
      "Digite a profundidade do cabo 4 em metros (valor positivo): 1.5\n",
      "\n",
      "Digite a posição no eixo x do cabo 5 em metros: 0.6\n",
      "Digite a profundidade do cabo 5 em metros (valor positivo): 1.5\n",
      "\n",
      "Digite a posição no eixo x do cabo 6 em metros: 1\n",
      "Digite a profundidade do cabo 6 em metros (valor positivo): 1.5\n"
     ]
    }
   ],
   "source": [
    "N = int(input('\\nEntre com o número de cabos da instalação: '))\n",
    "X = []\n",
    "Y = []\n",
    "\n",
    "for i in range(N):\n",
    "    X.append(float(input(f'\\nDigite a posição no eixo x do cabo {i+1} em metros: ')))\n",
    "    Y.append(float(input(f'Digite a profundidade do cabo {i + 1} em metros (valor positivo): ')))\n",
    "\n",
    "# X = [-0.35, -0.35, -0.35, 0.35, 0.35, 0.35] # Posição dos cabos no eixo x [m]\n",
    "# Y = [1.25, 1.6, 1.95, 1.25, 1.6, 1.95] # Posição dos cabos no eixo y (valor positivo) [m]\n",
    "\n",
    "\n",
    "yp = xp ** 4 / (192 + 0.8 * xp ** 4) * (2 * r_1 / math.sqrt((X[0] - X[1]) ** 2 + (Y[0] - Y[1]) ** 2)) ** 2 * (0.312 * (2 * r_1 / math.sqrt((X[0] - X[1]) ** 2 + (Y[0] - Y[1]) ** 2)) ** 2 +\n",
    "                                                                                                              1.18 / (xp ** 4 / (192 + 0.8 * xp ** 4) + 0.27))\n",
    "\n",
    "r_ac_iec = r_dc_0*(1 + ys + yp)"
   ]
  },
  {
   "cell_type": "code",
   "execution_count": 46,
   "metadata": {},
   "outputs": [
    {
     "name": "stdout",
     "output_type": "stream",
     "text": [
      "\n",
      "Resistência AC em [ohm/km] conforme IEC em 90.0 graus Celsius: 0.02746 \n",
      "\n",
      "Entre com a permeabilidade magnética relativa do núcleo: 1\n"
     ]
    }
   ],
   "source": [
    "print(f'\\nResistência AC em [ohm/km] conforme IEC em {graus_c} graus Celsius: {round(1000 * r_ac_iec, 5)} \\n')\n",
    "\n",
    "eps = 0.1  # Tolerancia entre R calculado por Wedepohl e R calculado pela IEC em %\n",
    "\n",
    "w = 2 * math.pi * f_rps\n",
    "\n",
    "u_c = float(input('Entre com a permeabilidade magnética relativa do núcleo: '))\n",
    "u_c = u_c * (4 * math.pi * 10 ** -7)  # Permeabilidade magnética do núcleo [H/m]\n",
    "\n",
    "m_c = cmath.sqrt(w * u_c / p_c * 1j)\n",
    "\n",
    "Z1 = p_c * m_c / (2 * math.pi * r_1) * 1/(np.tanh(0.777 * m_c * r_1)) + 0.356 * p_c / (math.pi * r_1 ** 2)\n",
    "\n",
    "n_iter = 100000  # Número máximo de iterações\n",
    "iter = 0\n",
    "p_c_orig = p_c"
   ]
  },
  {
   "cell_type": "code",
   "execution_count": 47,
   "metadata": {},
   "outputs": [
    {
     "name": "stdout",
     "output_type": "stream",
     "text": [
      "Digite a porcentagem de perturbação em p_c. \n",
      "20\n",
      "Iteração 100000 atingida sem convergência, digite a nova porcentagem de perturbação em p_c (iteração anterior = 20.0%). \n",
      "30\n",
      "Iteração 100000 atingida sem convergência, digite a nova porcentagem de perturbação em p_c (iteração anterior = 30.0%). \n",
      "40\n",
      "Resistência em ohm/km calculada em 48 iterações: 0.02744. \n",
      "Erro: -0.0565 % \n",
      "Resistividade estimada para o condutor em [ohm.m]: 3.817525084799859e-08. \n",
      "\n"
     ]
    }
   ],
   "source": [
    "p = 1 / 100 * float(input(f'Digite a porcentagem de perturbação em p_c. \\n'))\n",
    "\n",
    "while np.abs((np.real(Z1) - r_ac_iec) / r_ac_iec) * 100 > eps and iter <= n_iter:\n",
    "    p_c = p_c_orig * (1 + random.uniform(-p, p))  # Perturba p_c em +/- p%\n",
    "    m_c = cmath.sqrt(w * u_c / p_c * 1j)\n",
    "\n",
    "    if r_0 == 0:\n",
    "        Z1 = p_c * m_c / (2 * math.pi * r_1) * (special.iv(0, m_c * r_1) / special.iv(1, m_c * r_1))\n",
    "    else:\n",
    "        Z1 = p_c * m_c / (2 * math.pi * r_1) * ((special.iv(0, m_c * r_1) * special.kv(1, m_c * r_0) +\n",
    "                                                 special.kv(0, m_c * r_1) * special.iv(1, m_c * r_0)) /\n",
    "                                                (special.iv(1, m_c * r_1) * special.kv(1, m_c * r_0) -\n",
    "                                                 special.iv(1, m_c * r_0) * special.kv(1, m_c * r_1)))\n",
    "\n",
    "    iter = iter + 1\n",
    "    if iter == n_iter:\n",
    "        iter = 0\n",
    "        p = 1 / 100 * float(input(f'Iteração {n_iter} atingida sem convergência, digite a nova porcentagem de '\n",
    "                                  f'perturbação em p_c (iteração anterior = {100*p}%). \\n'))\n",
    "\n",
    "\n",
    "print(f'Resistência em ohm/km calculada em {iter} iterações: {round(1000 * np.real(Z1), 5)}. \\n'\n",
    "      f'Erro: {round(((np.real(Z1) - r_ac_iec) / r_ac_iec) * 100, 4)} % \\n'\n",
    "      f'Resistividade estimada para o condutor em [ohm.m]: {p_c}. \\n')"
   ]
  },
  {
   "cell_type": "code",
   "execution_count": 48,
   "metadata": {},
   "outputs": [
    {
     "name": "stdout",
     "output_type": "stream",
     "text": [
      "Entre com a espessura da camada semicondutora entre núcleo e isolação [cm]: \n",
      "0.222\n"
     ]
    }
   ],
   "source": [
    "e_sc_in = (10 ** -2) * float(input('Entre com a espessura da camada semicondutora entre núcleo e isolação [cm]: \\n'))"
   ]
  },
  {
   "cell_type": "code",
   "execution_count": 49,
   "metadata": {},
   "outputs": [
    {
     "name": "stdout",
     "output_type": "stream",
     "text": [
      "Entre com a espessura da primeira camada isolante [cm]: \n",
      "2.55\n"
     ]
    }
   ],
   "source": [
    "e_isol_1 = (10 ** -2) * float(input('Entre com a espessura da primeira camada isolante [cm]: \\n'))"
   ]
  },
  {
   "cell_type": "code",
   "execution_count": 50,
   "metadata": {},
   "outputs": [
    {
     "name": "stdout",
     "output_type": "stream",
     "text": [
      "Entre com a espessura da camada semicondutora entre isolação e blindagem [cm]: \n",
      "0.24\n"
     ]
    }
   ],
   "source": [
    "e_sc_out = (10 ** -2) * float(input('Entre com a espessura da camada semicondutora entre isolação e blindagem [cm]: \\n'))"
   ]
  },
  {
   "cell_type": "code",
   "execution_count": 51,
   "metadata": {},
   "outputs": [],
   "source": [
    "r_2 = r_1 + e_sc_in + e_isol_1 + e_sc_out\n",
    "\n",
    "a = r_1 + e_sc_in\n",
    "\n",
    "b = a + e_isol_1"
   ]
  },
  {
   "cell_type": "code",
   "execution_count": 52,
   "metadata": {},
   "outputs": [
    {
     "name": "stdout",
     "output_type": "stream",
     "text": [
      "\n",
      "Blindagem metálica de fios? \n",
      "1 - Não (Default) \n",
      "2 - Sim \n",
      "2\n"
     ]
    }
   ],
   "source": [
    "blindagem = input('\\nBlindagem metálica de fios? \\n'\n",
    "                  '1 - Não (Default) \\n'\n",
    "                  '2 - Sim \\n')"
   ]
  },
  {
   "cell_type": "code",
   "execution_count": 53,
   "metadata": {},
   "outputs": [
    {
     "name": "stdout",
     "output_type": "stream",
     "text": [
      "\n",
      "Digite o número de fios da blindagem metálica: 63\n",
      "Digite a espessura (diâmetro) dos fios em [cm]: 0.26\n",
      "Digite o método para modelagem da blindagem: \n",
      "1 - Calcula resistividade mantendo espessura da blindagem \n",
      "2 - Calcula raio para mesma área da blindagem (Default) \n",
      "1\n"
     ]
    }
   ],
   "source": [
    "if blindagem == \"2\":\n",
    "    n_fios = int(input('\\nDigite o número de fios da blindagem metálica: '))\n",
    "    d_f = (10 ** -2) * float(input('Digite a espessura (diâmetro) dos fios em [cm]: '))\n",
    "    metodo_blindagem = int(input('Digite o método para modelagem da blindagem: \\n'\n",
    "                                 '1 - Calcula resistividade mantendo espessura da blindagem \\n'\n",
    "                                 '2 - Calcula raio para mesma área da blindagem (Default) \\n'))\n",
    "\n",
    "    if metodo_blindagem == 1:\n",
    "        r_3 = r_2 + d_f / 2\n",
    "\n",
    "    else:\n",
    "        area_s = math.pi * n_fios * (d_f / 2) ** 2\n",
    "        r_3 = math.sqrt(area_s / math.pi + r_2 ** 2)\n",
    "\n",
    "else:\n",
    "    e_s = (10 ** -2) * float(input('\\nEntre com a espessura da blindagem metálica (considerada puramente tubular) em [cm]: '))\n",
    "    r_3 = r_2 + e_s"
   ]
  },
  {
   "cell_type": "code",
   "execution_count": 54,
   "metadata": {},
   "outputs": [
    {
     "name": "stdout",
     "output_type": "stream",
     "text": [
      "\n",
      "Entre com a espessura da segunda camada isolante em [cm]: 0.645\n"
     ]
    }
   ],
   "source": [
    "e_isol_2 = (10 ** -2) * float(input('\\nEntre com a espessura da segunda camada isolante em [cm]: '))"
   ]
  },
  {
   "cell_type": "code",
   "execution_count": 55,
   "metadata": {},
   "outputs": [
    {
     "name": "stdout",
     "output_type": "stream",
     "text": [
      "\n",
      "Entre com a resistividade elétrica da blindagem em 20 graus Celsius: \n",
      "Referência TB 531: \n",
      "Cobre - 1.7241E-8 ohm.m \n",
      "Alumínio - 2.8264E-8 ohm.m \n",
      "1.7241e-8\n"
     ]
    }
   ],
   "source": [
    "r_4 = r_3 + e_isol_2\n",
    "\n",
    "# Valores de referência para resistividade, tirados da Brochura 531 do Cigré:\n",
    "# Cobre - p_c = 1.7241E-8 ohm.m\n",
    "# Alumínio - pc = 2.8264E-8 ohm.m\n",
    "\n",
    "# p_c = 4.4969E-8 # Resistividade do núcleo [ohm.m]\n",
    "# p_s = 1.68E-8 # Resistividade da blindagem [ohm.m]\n",
    "\n",
    "p_s = float(input('\\nEntre com a resistividade elétrica da blindagem em 20 graus Celsius: \\n'\n",
    "                  'Referência TB 531: \\n'\n",
    "                  'Cobre - 1.7241E-8 ohm.m \\n'\n",
    "                  'Alumínio - 2.8264E-8 ohm.m \\n'))"
   ]
  },
  {
   "cell_type": "code",
   "execution_count": 56,
   "metadata": {},
   "outputs": [
    {
     "name": "stdout",
     "output_type": "stream",
     "text": [
      "\n",
      "Temperatura a ser considerada na blindagem em graus Celsius: 75\n",
      "\n",
      "Material da blindagem: \n",
      "1 - Alumínio (Default) \n",
      "2 - Cobre. \n",
      "2\n"
     ]
    }
   ],
   "source": [
    "graus_s = float(input('\\nTemperatura a ser considerada na blindagem em graus Celsius: '))\n",
    "\n",
    "material_s = input('\\nMaterial da blindagem: \\n'\n",
    "                    '1 - Alumínio (Default) \\n'\n",
    "                    '2 - Cobre. \\n')\n",
    "\n",
    "if material_s == '2':\n",
    "    p_s = p_s * (1 + 0.00393 * (graus_s - 20))\n",
    "\n",
    "else:\n",
    "    p_s = p_s * (1 + 0.00403 * (graus_s - 20))\n",
    "\n",
    "# Correção da resistividade da blindagem em funcao do parâmetro metodo_blindagem\n",
    "if metodo_blindagem == 1:\n",
    "    p_s = p_s * (math.pi * (r_3 ** 2 - r_2 ** 2)) / (math.pi * n_fios * (d_f / 2) ** 2)"
   ]
  },
  {
   "cell_type": "code",
   "execution_count": 57,
   "metadata": {},
   "outputs": [
    {
     "name": "stdout",
     "output_type": "stream",
     "text": [
      "Entre com a permeabilidade magnética relativa da blindagem: 1\n",
      "Entre com a permeabilidade magnética relativa da primeira camada isolante: 1\n"
     ]
    }
   ],
   "source": [
    "u_s = float(input('Entre com a permeabilidade magnética relativa da blindagem: '))\n",
    "u_1 = float(input('Entre com a permeabilidade magnética relativa da primeira camada isolante: '))"
   ]
  },
  {
   "cell_type": "code",
   "execution_count": 58,
   "metadata": {},
   "outputs": [
    {
     "name": "stdout",
     "output_type": "stream",
     "text": [
      "\n",
      "Deseja corrigir a permeabilidade magnética da primeira camada isolante para \n",
      "levar em conta o efeito da blindagem metálica de fios? \n",
      "1 - Não (Default) \n",
      "2 - Sim \n",
      "1\n",
      "Entre com a permeabilidade magnética relativa da segunda camada isolante: 1\n"
     ]
    }
   ],
   "source": [
    "if blindagem == \"2\":\n",
    "    corrige_ind = input('\\nDeseja corrigir a permeabilidade magnética da primeira camada isolante para \\n'\n",
    "                        'levar em conta o efeito da blindagem metálica de fios? \\n'\n",
    "                        '1 - Não (Default) \\n'\n",
    "                        '2 - Sim \\n')\n",
    "\n",
    "    if corrige_ind == \"2\":\n",
    "        length_of_lay = (10 ** -2) * float(input('Digite o comprimento em [cm] necessário para a blindagem '\n",
    "                                                 'completar uma volta em torno da primeira camada isolante: '))\n",
    "        u_1 = u_1*(1 + (2 * (1 / length_of_lay) ** 2 * math.pi ** 2 * (r_2 ** 2 - r_1 ** 2)) / math.log(r_2 / r_1))\n",
    "        print(f'Permabilidade magnética relativa após a correção: {u_1} \\n')\n",
    "\n",
    "u_2 = float(input('Entre com a permeabilidade magnética relativa da segunda camada isolante: '))"
   ]
  },
  {
   "cell_type": "code",
   "execution_count": 59,
   "metadata": {},
   "outputs": [
    {
     "name": "stdout",
     "output_type": "stream",
     "text": [
      "Entre com a permissividade elétrica relativa da primeira camada isolante: 2.5\n",
      "Deseja corrigir a permissividade elétrica da primeira camada isolante para \n",
      "levar em conta o efeito das camadas semicondutoras? \n",
      "1 - Não (Default) \n",
      "2 - Sim \n",
      "2\n",
      "Permissividade elétrica relativa após a correção: 2.9952707316707174 \n",
      "\n"
     ]
    }
   ],
   "source": [
    "e_1 = float(input('Entre com a permissividade elétrica relativa da primeira camada isolante: '))\n",
    "\n",
    "corrige_e_1 = input('Deseja corrigir a permissividade elétrica da primeira camada isolante para \\n'\n",
    "                    'levar em conta o efeito das camadas semicondutoras? \\n'\n",
    "                    '1 - Não (Default) \\n'\n",
    "                    '2 - Sim \\n')\n",
    "\n",
    "if corrige_e_1 == \"2\":\n",
    "    e_1 = e_1 * math.log(r_2 / r_1) / math.log(b / a)\n",
    "    print(f'Permissividade elétrica relativa após a correção: {e_1} \\n')"
   ]
  },
  {
   "cell_type": "code",
   "execution_count": 60,
   "metadata": {},
   "outputs": [
    {
     "name": "stdout",
     "output_type": "stream",
     "text": [
      "Entre com a permissividade elétrica relativa da segunda camada isolante: 2.5\n",
      "Entre com a resistividade elétrica do solo [ohm.m]: 100\n",
      "Entre com a permeabilidade magnética relativa do solo: 1\n"
     ]
    }
   ],
   "source": [
    "e_2 = float(input('Entre com a permissividade elétrica relativa da segunda camada isolante: '))\n",
    "p_solo = float(input('Entre com a resistividade elétrica do solo [ohm.m]: '))\n",
    "u_solo = float(input('Entre com a permeabilidade magnética relativa do solo: '))\n",
    "\n",
    "u_s = u_s * (4 * math.pi * 10 ** -7)  # Permeabilidade magnética da blindagem [H/m]\n",
    "u_1 = u_1 * (4 * math.pi * 10 ** -7)  # Permeabilidade magnética da primeira camada isolante [H/m]\n",
    "u_2 = u_2 * (4 * math.pi * 10 ** -7)  # Permeabilidade magnética da segunda camada isolante [H/m]\n",
    "# Teste e_1 = 2.88\n",
    "e_1 = e_1 * 8.85 * 10 ** -12  # Permissividade dielétrica da primeira camada isolante [F/m]\n",
    "# Teste e_2 = 2.89\n",
    "e_2 = e_2 * 8.85 * 10 ** -12  # Permissividade dielétrica da segunda camada isolante [F/m]\n",
    "# p_solo = 100 # Resistividade do solo [ohm.m]\n",
    "u_solo = u_solo * (4 * math.pi * 10 ** -7)  # permeabilidade magnética do solo [H/m]\n",
    "\n",
    "L = 1000  # Comprimento do trecho [m]"
   ]
  },
  {
   "cell_type": "code",
   "execution_count": 61,
   "metadata": {},
   "outputs": [
    {
     "name": "stdout",
     "output_type": "stream",
     "text": [
      "\n",
      "Frequência de cálculo em [Hz]: 60\n"
     ]
    }
   ],
   "source": [
    "# Entrada da instalação\n",
    "\n",
    "# Fórmulas utilizadas conforme Wedepohl\n",
    "\n",
    "# Z1 - Impedancia interna do condutor central [ohm/m]\n",
    "\n",
    "f = float(input('\\nFrequência de cálculo em [Hz]: '))\n",
    "\n",
    "w = 2 * math.pi * f\n",
    "\n",
    "m_c = cmath.sqrt(w * u_c / p_c * 1j)"
   ]
  },
  {
   "cell_type": "code",
   "execution_count": 62,
   "metadata": {},
   "outputs": [
    {
     "name": "stdout",
     "output_type": "stream",
     "text": [
      "\n",
      "Considerações sobre o cálculo de Z1 (Impedância interna do núcleo)\n",
      "1 - Método Simplificado apresentado em Wedepohl.\n",
      "2 - Método Completo (Funções de Bessel) de Ametani (Default). \n",
      "1\n"
     ]
    }
   ],
   "source": [
    "print('\\nConsiderações sobre o cálculo de Z1 (Impedância interna do núcleo)')\n",
    "metodo_z1 = input('1 - Método Simplificado apresentado em Wedepohl.\\n'\n",
    "                  '2 - Método Completo (Funções de Bessel) de Ametani (Default). \\n')\n",
    "\n",
    "if metodo_z1 == '1':\n",
    "    Z1 = p_c * m_c / (2 * math.pi * r_1) * 1/(np.tanh(0.777 * m_c * r_1)) + 0.356 * p_c / (math.pi * r_1 ** 2)\n",
    "\n",
    "else:\n",
    "    # Aplicação das funções de Bessel modificadas. Utilização da biblioteca special do scipy\n",
    "    # iv - Função de Bessel modificada de primeira espécie e ordem real\n",
    "    # iv(1, m) - ordem 1 e argumento complexo m\n",
    "    # iv(0, m) - ordem 0 e argumento complexo m\n",
    "    # kv - Função de Bessel modificada de segunda espécie e ordem real\n",
    "    if r_0 == 0:\n",
    "        Z1 = p_c * m_c / (2 * math.pi * r_1) * (special.iv(0, m_c * r_1) / special.iv(1, m_c * r_1))\n",
    "    else:\n",
    "        Z1 = p_c * m_c / (2 * math.pi * r_1) * ((special.iv(0, m_c * r_1) * special.kv(1, m_c * r_0) +\n",
    "                                                 special.kv(0, m_c * r_1) * special.iv(1, m_c * r_0)) /\n",
    "                                                (special.iv(1, m_c * r_1) * special.kv(1, m_c * r_0) -\n",
    "                                                 special.iv(1, m_c * r_0) * special.kv(1, m_c * r_1)))"
   ]
  },
  {
   "cell_type": "code",
   "execution_count": 63,
   "metadata": {},
   "outputs": [
    {
     "name": "stdout",
     "output_type": "stream",
     "text": [
      "\n",
      "Considerações sobre o cálculo de Z3, Z4 e Z5 (Impedâncias da blindagem)\n",
      "1 - Método Simplificado apresentado em Wedepohl.\n",
      "Bons resultados para a relação (r3 - r2) / (r3 + r2) < 1/8 (0.125). \n",
      "Relação calculada para o caso atual: 0.0121. \n",
      "2 - Método Completo (Funções de Bessel) de Wedepohl (Default). \n",
      "1\n"
     ]
    }
   ],
   "source": [
    "# Z2 - Impedancia devido a variação do campo magnético na isolação principal\n",
    "\n",
    "Z2 = w * u_1 / (2 * math.pi) * math.log(r_2 / r_1) * 1j\n",
    "\n",
    "# Z6 - Impedancia devido a variação do campo magnético na isolação externa\n",
    "\n",
    "Z6 = w * u_2 / (2 * math.pi) * math.log(r_4 / r_3) * 1j\n",
    "\n",
    "D = r_3 - r_2\n",
    "\n",
    "m_s = cmath.sqrt(w * u_s / p_s * 1j)\n",
    "\n",
    "print('\\nConsiderações sobre o cálculo de Z3, Z4 e Z5 (Impedâncias da blindagem)')\n",
    "metodo_blindagem = input('1 - Método Simplificado apresentado em Wedepohl.\\n'\n",
    "                         'Bons resultados para a relação (r3 - r2) / (r3 + r2) < 1/8 (0.125). \\n'\n",
    "                         f'Relação calculada para o caso atual: {round((r_3 - r_2) / (r_3 + r_2), 4)}. \\n'\n",
    "                         '2 - Método Completo (Funções de Bessel) de Wedepohl (Default). \\n')\n",
    "\n",
    "if metodo_blindagem == '1':\n",
    "    # Z3 - Impedancia dada pela queda de tensão na superfície interna da blindagem devido a corrente no condutor\n",
    "    Z3 = p_s * m_s / (2 * math.pi * r_2) * 1 / (np.tanh(m_s * D) - p_s / (2 * math.pi * r_2 * (r_2 + r_3)))\n",
    "    # Z4\n",
    "    Z4 = p_s * m_s / (math.pi * (r_2 + r_3)) * 1 / np.sinh(m_s * D)\n",
    "    # Z5 - Impedancia dada pela queda de tensão na superfície externa da blindagem devido a corrente pelo solo\n",
    "    Z5 = p_s * m_s / (2 * math.pi * r_3) * 1 / np.tanh(m_s * D) + p_s / (2 * math.pi * r_3 * (r_2 + r_3))\n",
    "\n",
    "else:\n",
    "    # Aplicação das funções de Bessel modificadas. Utilização da biblioteca special do scipy\n",
    "    # iv - Função de Bessel modificada de primeira espécie e ordem real\n",
    "    # iv(1, m) - ordem 1 e argumento complexo m\n",
    "    # iv(0, m) - ordem 0 e argumento complexo m\n",
    "    # iv - Função de Bessel modificada de segunda espécie e ordem real\n",
    "    Z3 = p_s * m_s / (2 * math.pi * r_2) * \\\n",
    "         (special.iv(0, m_s * r_2) * special.kv(1, m_s * r_3) + special.kv(0, m_s * r_2) * special.iv(1, m_s * r_3)) / \\\n",
    "         (special.iv(1, m_s * r_3) * special.kv(1, m_s * r_2) - special.iv(1, m_s * r_2) * special.kv(1, m_s * r_3))\n",
    "\n",
    "    Z4 = p_s / (2 * math.pi * r_2 * r_3) * 1 / (special.iv(1, m_s * r_3) * special.kv(1, m_s * r_2) - special.iv(1, m_s * r_2) * special.kv(1, m_s * r_3))\n",
    "\n",
    "    Z5 = p_s * m_s / (2 * math.pi * r_3) * \\\n",
    "         (special.iv(0, m_s * r_3) * special.kv(1, m_s * r_2) + special.kv(0, m_s * r_3) * special.iv(1, m_s * r_2)) / \\\n",
    "         (special.iv(1, m_s * r_3) * special.kv(1, m_s * r_2) - special.iv(1, m_s * r_2) * special.kv(1, m_s * r_3))\n",
    "\n",
    "# Z7 - Impedancia do solo\n",
    "\n",
    "m_solo = cmath.sqrt(w * u_solo / p_solo * 1j)\n",
    "\n",
    "gama = 0.5772156649\n",
    "\n",
    "Z_int = np.zeros((2 * len(X), 2 * len(X)), dtype=complex)\n",
    "Z_earth = np.zeros((2 * len(X), 2 * len(X)), dtype=complex)\n",
    "\n",
    "for i in range(len(X)):\n",
    "    Z_int[i][i] = Z1 + Z2 + Z3 + Z5 + Z6 - 2 * Z4\n",
    "    Z_int[i][i + len(X)] = Z5 + Z6 - Z4\n",
    "    Z_int[i + len(X)][i] = Z_int[i][i + len(X)]\n",
    "    Z_int[i + len(X)][i + len(X)] = Z5 + Z6\n",
    "\n",
    "\n",
    "# Montagem da matriz de retorno pela terra\n",
    "\n",
    "X.extend(X)\n",
    "Y.extend(Y)\n",
    "\n",
    "# Permite métodos de cálculo para impedâncias do solo\n",
    "# Wedepohl e Saad"
   ]
  },
  {
   "cell_type": "code",
   "execution_count": 64,
   "metadata": {},
   "outputs": [
    {
     "name": "stdout",
     "output_type": "stream",
     "text": [
      "\n",
      "Considerações sobre o cálculo de Z7 (Impedâncias de terra)\n",
      "1 - Método Simplificado apresentado em Wedepohl.\n",
      "Bons resultados para a relação | m_solo * dist | < 0.25. \n",
      "Relação calculada para o caso atual: 2.0.\n",
      "2 - Método aproximado completo (Funções de Bessel) de Saad (Default). \n",
      "1\n"
     ]
    }
   ],
   "source": [
    "print('\\nConsiderações sobre o cálculo de Z7 (Impedâncias de terra)')\n",
    "metodo_earth = input('1 - Método Simplificado apresentado em Wedepohl.\\n'\n",
    "                     'Bons resultados para a relação | m_solo * dist | < 0.25. \\n'\n",
    "                     f'Relação calculada para o caso atual: {math.sqrt((min(X) - max(X)) ** 2 + (min(Y) - max(Y)) ** 2)}.\\n'\n",
    "                     '2 - Método aproximado completo (Funções de Bessel) de Saad (Default). \\n')\n",
    "\n",
    "for i in range(len(X)):\n",
    "    for k in range(i, len(X)):\n",
    "        if k == i:\n",
    "            if metodo_earth == '1':\n",
    "                Z_earth[i][k] = 1j * w * u_solo / (2 * math.pi) * (-cmath.log(gama * m_solo * r_4 / 2) + 1 / 2 - 4 * m_solo * Y[i] / 3)\n",
    "            else:\n",
    "                Z_earth[i][k] = p_solo * m_solo ** 2 / (2 * math.pi) * (special.kv(0, m_solo * r_4) + 2 / (4 + m_solo ** 2 * r_4 ** 2) * cmath.exp(-2 * Y[i] * m_solo))\n",
    "        elif k == i + len(X) / 2:\n",
    "            if metodo_earth == '1':\n",
    "                Z_earth[i][k] = 1j * w * u_solo / (2 * math.pi) * (-cmath.log(gama * m_solo * r_4 / 2) + 1 / 2 - 4 * m_solo * Y[i] / 3)\n",
    "            else:\n",
    "                Z_earth[i][k] = p_solo * m_solo ** 2 / (2 * math.pi) * (special.kv(0, m_solo * r_4) + 2 / (4 + m_solo ** 2 * r_4 ** 2) * cmath.exp(-2 * Y[i] * m_solo))\n",
    "        else:\n",
    "            if metodo_earth == '1':\n",
    "                Z_earth[i][k] = 1j * w * u_solo / (2 * math.pi) * (-cmath.log(gama * m_solo * math.sqrt((X[i] - X[k]) ** 2 + (Y[i] - Y[k]) ** 2) / 2) + 1 / 2 - 2 / 3 * m_solo * (Y[i] + Y[k]))\n",
    "\n",
    "            else:\n",
    "                Z_earth[i][k] = p_solo * m_solo ** 2 / (2 * math.pi) * (special.kv(0, m_solo * math.sqrt((X[i] - X[k])**2 + (Y[i] - Y[k])**2)) + 2 / (4 + m_solo ** 2 * (np.abs(X[i] - X[k])) ** 2) * cmath.exp(-2 * (Y[i] + Y[k]) * m_solo))\n",
    "\n",
    "        Z_earth[k][i] = Z_earth[i][k]\n",
    "\n",
    "# Montagem da matriz de impedancias serie\n",
    "\n",
    "Z_serie = Z_int + Z_earth\n",
    "\n",
    "# Montagem das matrizes relativas à admitância da LT\n",
    "\n",
    "Y_shunt = np.zeros([len(X), len(X)], dtype=complex)\n",
    "\n",
    "for i in range(int(len(X) / 2)):\n",
    "    Y_shunt[i][i] = w * 2 * math.pi * e_1 / math.log(r_2 / r_1) * 1j\n",
    "\n",
    "    Y_shunt[i][i + int(len(X) / 2)] = -Y_shunt[i][i]\n",
    "    Y_shunt[i + int(len(X) / 2), i] = Y_shunt[i][i + int(len(X) / 2)]\n",
    "    Y_shunt[i + int(len(X) / 2), i + int(len(X) / 2)] = Y_shunt[i][i] + w * 2 * math.pi * e_2 / math.log(r_4 / r_3)"
   ]
  },
  {
   "cell_type": "code",
   "execution_count": 65,
   "metadata": {},
   "outputs": [
    {
     "name": "stdout",
     "output_type": "stream",
     "text": [
      "\n",
      "Consideração sobre transposição: \n",
      "1 - Apenas núcleos com sentidos inversos nos circuitos (Default) \n",
      "2 - Apenas núcleos com sentidos iguais nos circuitos \n",
      "3 - Apenas blindagens com sentidos inversos nos circuitos \n",
      "4 - Apenas blindagens com sentidos iguais nos circuitos \n",
      "1\n",
      "Impedancia de Sequencia zero da LT em ohm/km\n",
      "Z_0 = (0.0896+0.0882j)\n",
      "Impedancia de sequencia positiva da LT em ohm/km\n",
      "Z_1 = (0.0283+0.2508j)\n",
      "Impedancia de sequencia negativa da LT em ohm/km\n",
      "Z_2 = (0.0283+0.2508j)\n",
      "Admitancia de Sequencia zero da LT em micro mho/km\n",
      "Y_0 = 74.9021j\n",
      "Admitancia de Sequencia positiva da LT em micro mho/km\n",
      "Y_1 = 74.9021j\n",
      "Admitancia de Sequencia negativa da LT em micro mho/km\n",
      "Y_2 = 74.9021j\n"
     ]
    }
   ],
   "source": [
    "# Calculo dos parametros de sequencia da matriz\n",
    "# Matriz R\n",
    "\n",
    "# Construção da matriz R conforme transposições\n",
    "\n",
    "if N == 3:\n",
    "    transp = input('\\nConsideração sobre transposição: \\n'\n",
    "                         '1 - Apenas núcleos (Default) \\n'\n",
    "                         '2 - Apenas blindagens. \\n')\n",
    "\n",
    "    if transp == \"2\":\n",
    "        R = np.array([[1, 0, 0, 0, 0, 0],\n",
    "                      [0, 1, 0, 0, 0, 0],\n",
    "                      [0, 0, 1, 0, 0, 0],\n",
    "                      [0, 0, 0, 0, 1, 0],\n",
    "                      [0, 0, 0, 0, 0, 1],\n",
    "                      [0, 0, 0, 1, 0, 0]])\n",
    "    else:\n",
    "        R = np.array([[0, 1, 0, 0, 0, 0],\n",
    "                      [0, 0, 1, 0, 0, 0],\n",
    "                      [1, 0, 0, 0, 0, 0],\n",
    "                      [0, 0, 0, 1, 0, 0],\n",
    "                      [0, 0, 0, 0, 1, 0],\n",
    "                      [0, 0, 0, 0, 0, 1]])\n",
    "\n",
    "else:\n",
    "    transp = input('\\nConsideração sobre transposição: \\n'\n",
    "                         '1 - Apenas núcleos com sentidos inversos nos circuitos (Default) \\n'\n",
    "                         '2 - Apenas núcleos com sentidos iguais nos circuitos \\n'\n",
    "                         '3 - Apenas blindagens com sentidos inversos nos circuitos \\n'\n",
    "                         '4 - Apenas blindagens com sentidos iguais nos circuitos \\n')\n",
    "\n",
    "    if transp == \"2\":\n",
    "        R = np.array([[0, 1, 0, 0, 0, 0, 0, 0, 0, 0, 0, 0],\n",
    "                      [0, 0, 1, 0, 0, 0, 0, 0, 0, 0, 0, 0],\n",
    "                      [1, 0, 0, 0, 0, 0, 0, 0, 0, 0, 0, 0],\n",
    "                      [0, 0, 0, 0, 1, 0, 0, 0, 0, 0, 0, 0],\n",
    "                      [0, 0, 0, 0, 0, 1, 0, 0, 0, 0, 0, 0],\n",
    "                      [0, 0, 0, 1, 0, 0, 0, 0, 0, 0, 0, 0],\n",
    "                      [0, 0, 0, 0, 0, 0, 1, 0, 0, 0, 0, 0],\n",
    "                      [0, 0, 0, 0, 0, 0, 0, 1, 0, 0, 0, 0],\n",
    "                      [0, 0, 0, 0, 0, 0, 0, 0, 1, 0, 0, 0],\n",
    "                      [0, 0, 0, 0, 0, 0, 0, 0, 0, 1, 0, 0],\n",
    "                      [0, 0, 0, 0, 0, 0, 0, 0, 0, 0, 1, 0],\n",
    "                      [0, 0, 0, 0, 0, 0, 0, 0, 0, 0, 0, 1]])\n",
    "\n",
    "    elif transp == \"4\":\n",
    "        R = np.array([[1, 0, 0, 0, 0, 0, 0, 0, 0, 0, 0, 0],\n",
    "                      [0, 1, 0, 0, 0, 0, 0, 0, 0, 0, 0, 0],\n",
    "                      [0, 0, 1, 0, 0, 0, 0, 0, 0, 0, 0, 0],\n",
    "                      [0, 0, 0, 1, 0, 0, 0, 0, 0, 0, 0, 0],\n",
    "                      [0, 0, 0, 0, 1, 0, 0, 0, 0, 0, 0, 0],\n",
    "                      [0, 0, 0, 0, 0, 1, 0, 0, 0, 0, 0, 0],\n",
    "                      [0, 0, 0, 0, 0, 0, 0, 1, 0, 0, 0, 0],\n",
    "                      [0, 0, 0, 0, 0, 0, 0, 0, 1, 0, 0, 0],\n",
    "                      [0, 0, 0, 0, 0, 0, 1, 0, 0, 0, 0, 0],\n",
    "                      [0, 0, 0, 0, 0, 0, 0, 0, 0, 0, 1, 0],\n",
    "                      [0, 0, 0, 0, 0, 0, 0, 0, 0, 0, 0, 1],\n",
    "                      [0, 0, 0, 0, 0, 0, 0, 0, 0, 1, 0, 0]])\n",
    "\n",
    "    elif transp == \"3\":\n",
    "        R = np.array([[1, 0, 0, 0, 0, 0, 0, 0, 0, 0, 0, 0],\n",
    "                      [0, 1, 0, 0, 0, 0, 0, 0, 0, 0, 0, 0],\n",
    "                      [0, 0, 1, 0, 0, 0, 0, 0, 0, 0, 0, 0],\n",
    "                      [0, 0, 0, 1, 0, 0, 0, 0, 0, 0, 0, 0],\n",
    "                      [0, 0, 0, 0, 1, 0, 0, 0, 0, 0, 0, 0],\n",
    "                      [0, 0, 0, 0, 0, 1, 0, 0, 0, 0, 0, 0],\n",
    "                      [0, 0, 0, 0, 0, 0, 0, 1, 0, 0, 0, 0],\n",
    "                      [0, 0, 0, 0, 0, 0, 0, 0, 1, 0, 0, 0],\n",
    "                      [0, 0, 0, 0, 0, 0, 1, 0, 0, 0, 0, 0],\n",
    "                      [0, 0, 0, 0, 0, 0, 0, 0, 0, 0, 0, 1],\n",
    "                      [0, 0, 0, 0, 0, 0, 0, 0, 0, 1, 0, 0],\n",
    "                      [0, 0, 0, 0, 0, 0, 0, 0, 0, 0, 1, 0]])\n",
    "\n",
    "    else:\n",
    "        R = np.array([[0, 1, 0, 0, 0, 0, 0, 0, 0, 0, 0, 0],\n",
    "                      [0, 0, 1, 0, 0, 0, 0, 0, 0, 0, 0, 0],\n",
    "                      [1, 0, 0, 0, 0, 0, 0, 0, 0, 0, 0, 0],\n",
    "                      [0, 0, 0, 0, 0, 1, 0, 0, 0, 0, 0, 0],\n",
    "                      [0, 0, 0, 1, 0, 0, 0, 0, 0, 0, 0, 0],\n",
    "                      [0, 0, 0, 0, 1, 0, 0, 0, 0, 0, 0, 0],\n",
    "                      [0, 0, 0, 0, 0, 0, 1, 0, 0, 0, 0, 0],\n",
    "                      [0, 0, 0, 0, 0, 0, 0, 1, 0, 0, 0, 0],\n",
    "                      [0, 0, 0, 0, 0, 0, 0, 0, 1, 0, 0, 0],\n",
    "                      [0, 0, 0, 0, 0, 0, 0, 0, 0, 1, 0, 0],\n",
    "                      [0, 0, 0, 0, 0, 0, 0, 0, 0, 0, 1, 0],\n",
    "                      [0, 0, 0, 0, 0, 0, 0, 0, 0, 0, 0, 1]])\n",
    "\n",
    "Zf = 1 / 3 * (Z_serie + (np.linalg.inv(R).dot(Z_serie)).dot(R) + R.dot(Z_serie).dot(np.linalg.inv(R)));\n",
    "\n",
    "Yf = 1 / 3 * (Y_shunt + np.linalg.inv(R).dot(Y_shunt).dot(R) + R.dot(Y_shunt).dot(np.linalg.inv(R)));\n",
    "\n",
    "# Elimina blindagens\n",
    "\n",
    "Z_cc = Zf[0:N, 0:N]\n",
    "Z_cs = Zf[0:N, N:2 * N]\n",
    "Z_sc = Zf[N:2 * N, 0:N]\n",
    "Z_ss = Zf[N:2 * N, N:2 * N]\n",
    "\n",
    "Zeq = Z_cc - (Z_cs.dot(np.linalg.inv(Z_ss))).dot(Z_sc)\n",
    "\n",
    "# Matriz dos coeficientes de potenciais\n",
    "\n",
    "P_1 = 1 / (1j * w) * (Yf)\n",
    "\n",
    "Pf = np.linalg.inv(P_1)\n",
    "\n",
    "P_cc = Pf[0:N, 0:N]\n",
    "P_cs = Pf[0:N, N:2 * N]\n",
    "P_sc = Pf[N:2 * N, 0:N]\n",
    "P_ss = Pf[N:2 * N, N:2 * N]\n",
    "\n",
    "Peq = P_cc - (P_cs.dot(np.linalg.inv(P_ss))).dot(P_sc)\n",
    "\n",
    "alfa = math.cos(120 * math.pi / 180) + 1j * math.sin(120 * math.pi / 180);\n",
    "\n",
    "T = np.array([[1, 1, 1], [1, alfa ** 2, alfa], [1, alfa, alfa ** 2]])\n",
    "T_1 = np.linalg.inv(T)\n",
    "\n",
    "if N == 6:\n",
    "    T_aux_1 = np.concatenate((T, np.zeros([3, 3])), axis=1)\n",
    "    T_aux_2 = np.concatenate((np.zeros([3, 3]), T), axis=1)\n",
    "    T = np.concatenate((T_aux_1, T_aux_2), axis=0)\n",
    "\n",
    "    T_aux_1 = np.concatenate((T_1, np.zeros([3, 3])), axis=1)\n",
    "    T_aux_2 = np.concatenate((np.zeros([3, 3]), T_1), axis=1)\n",
    "    T_1 = np.concatenate((T_aux_1, T_aux_2), axis=0)\n",
    "\n",
    "\n",
    "Z_012 = (T_1.dot(Zeq)).dot(T)\n",
    "\n",
    "P_012 = (T_1.dot(Peq)).dot(T)\n",
    "\n",
    "# Capacitancias de sequencia\n",
    "\n",
    "C_012 = np.linalg.inv(P_012)\n",
    "\n",
    "Y_012 = 1j * w * C_012\n",
    "\n",
    "# Apresenta parametros de sequencia\n",
    "\n",
    "print('Impedancia de Sequencia zero da LT em ohm/km')\n",
    "print(f'Z_0 = {np.round(1000 * Z_012[0][0], 4)}')\n",
    "\n",
    "print('Impedancia de sequencia positiva da LT em ohm/km')\n",
    "print(f'Z_1 = {np.round(1000 * Z_012[1][1], 4)}')\n",
    "\n",
    "print('Impedancia de sequencia negativa da LT em ohm/km')\n",
    "print(f'Z_2 = {np.round(1000 * Z_012[2][2], 4)}')\n",
    "\n",
    "\n",
    "print('Admitancia de Sequencia zero da LT em micro mho/km')\n",
    "print(f'Y_0 = {np.round(10** 6 * 1000 * Y_012[0][0], 4)}')\n",
    "\n",
    "print('Admitancia de Sequencia positiva da LT em micro mho/km')\n",
    "print(f'Y_1 = {np.round(10** 6 * 1000 * Y_012[1][1], 4)}')\n",
    "\n",
    "print('Admitancia de Sequencia negativa da LT em micro mho/km')\n",
    "print(f'Y_2 = {np.round(10** 6 * 1000 * Y_012[2][2], 4)}')\n",
    "\n",
    "matriz_z_seq = pd.DataFrame(np.round(Z_012 * 1000, 5))\n",
    "matriz_y_seq = pd.DataFrame(np.round(Y_012 * 1000 * 10 ** 6, 5))\n",
    "\n",
    "writer = pd.ExcelWriter('LSCable_1400mm_metodos_aux.xlsx', engine='xlsxwriter')\n",
    "\n",
    "matriz_z_seq.to_excel(writer, 'Z1=' + metodo_z1 + 'Zs=' + metodo_blindagem + 'Z7=' + metodo_earth +\n",
    "                      'Transp=' + transp, header=False, index=False, startcol=2, startrow=2)\n",
    "matriz_y_seq.to_excel(writer, 'Z1=' + metodo_z1 + 'Zs=' + metodo_blindagem + 'Z7=' + metodo_earth +\n",
    "                      'Transp=' + transp, header=False, index=False, startcol=2, startrow=4 + N)\n",
    "\n",
    "writer.save()"
   ]
  },
  {
   "cell_type": "code",
   "execution_count": 66,
   "metadata": {},
   "outputs": [
    {
     "name": "stdout",
     "output_type": "stream",
     "text": [
      "\n",
      "Deseja imprimir os dados para entrada no ATP? \n",
      "1 - Não (Default) \n",
      "2 - Sim \n",
      "1\n"
     ]
    }
   ],
   "source": [
    "saida_atp = input('\\nDeseja imprimir os dados para entrada no ATP? \\n'\n",
    "                  '1 - Não (Default) \\n'\n",
    "                  '2 - Sim \\n')\n",
    "\n",
    "if saida_atp == \"2\":\n",
    "    print('Dados para entrada na rotina Cable Constants do ATP: \\n'\n",
    "          'Dados comuns relativos à geometria do cabo: \\n'\n",
    "          'CORE: \\n'\n",
    "          f'Rin [m]: {round(r_0, 5)} \\n'\n",
    "          f'Rout [m]: {round(r_1, 5)} \\n'\n",
    "          f'Rho [ohm*m]: {p_c} \\n'\n",
    "          f'mu : {round(u_c / (4 * math.pi * 10 ** -7), 2)} \\n'\n",
    "          f'mu (ins): {round(u_1 / (4 * math.pi * 10 ** -7), 4)} \\n'\n",
    "          f'eps(ins): {round(e_1 / (8.85 * 10 ** -12), 2)} \\n'\n",
    "          f'\\nSHEATH: \\n'\n",
    "          f'Rin [m]: {round(r_2, 5)} \\n'\n",
    "          f'Rout [m]: {round(r_3, 5)} \\n'\n",
    "          f'Rho [ohm*m]: {p_s} \\n'\n",
    "          f'mu : {round(u_s / (4 * math.pi * 10 ** -7), 2)} \\n'\n",
    "          f'mu (ins): {round(u_2 / (4 * math.pi * 10 ** -7), 2)} \\n'\n",
    "          f'eps(ins): {round(e_2 / (8.85 * 10 ** -12), 2)} \\n'\n",
    "          f'\\nR5 [m]: {round(r_4, 5)} \\n'\n",
    "          f'\\nDados relativos às posições dos cabos: \\n'\n",
    "          f'Posição Horizontal [m]: {X[0:N]} \\n'\n",
    "          f'Posição Vertical [m]: {Y[0:N]} \\n'\n",
    "          f'\\nResistividade do solo Rho [ohm*m]: {p_solo} \\n')"
   ]
  },
  {
   "cell_type": "code",
   "execution_count": 67,
   "metadata": {},
   "outputs": [
    {
     "name": "stdout",
     "output_type": "stream",
     "text": [
      "Deseja imprimir a matriz Zserie? \n",
      "1 - Não (Default) \n",
      "2 - Sim \n",
      "1\n"
     ]
    }
   ],
   "source": [
    "matriz_z = input('Deseja imprimir a matriz Zserie? \\n'\n",
    "                 '1 - Não (Default) \\n'\n",
    "                 '2 - Sim \\n')\n",
    "if matriz_z == \"2\":\n",
    "    print('Matriz Z de fase em ohm/km: \\n'\n",
    "          f'{Z_serie * 1000}')"
   ]
  },
  {
   "cell_type": "code",
   "execution_count": 68,
   "metadata": {},
   "outputs": [
    {
     "name": "stdout",
     "output_type": "stream",
     "text": [
      "Deseja imprimir a matriz Yshunt? \n",
      "1 - Não (Default) \n",
      "2 - Sim \n",
      "1\n"
     ]
    }
   ],
   "source": [
    "matriz_y = input('Deseja imprimir a matriz Yshunt? \\n'\n",
    "                 '1 - Não (Default) \\n'\n",
    "                 '2 - Sim \\n')\n",
    "if matriz_y == \"2\":\n",
    "    print('Matriz Y de fase em mho/km: \\n'\n",
    "          f'{Y_shunt * 1000}')"
   ]
  },
  {
   "cell_type": "code",
   "execution_count": null,
   "metadata": {},
   "outputs": [],
   "source": []
  }
 ],
 "metadata": {
  "kernelspec": {
   "display_name": "Python 3",
   "language": "python",
   "name": "python3"
  },
  "language_info": {
   "codemirror_mode": {
    "name": "ipython",
    "version": 3
   },
   "file_extension": ".py",
   "mimetype": "text/x-python",
   "name": "python",
   "nbconvert_exporter": "python",
   "pygments_lexer": "ipython3",
   "version": "3.8.3"
  }
 },
 "nbformat": 4,
 "nbformat_minor": 4
}
